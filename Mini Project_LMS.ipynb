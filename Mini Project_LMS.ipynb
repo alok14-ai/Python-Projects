{
 "cells": [
  {
   "cell_type": "markdown",
   "id": "4c8806d6-915e-46d7-b529-756d19c8a111",
   "metadata": {},
   "source": [
    "Mini Project-Library Managment System"
   ]
  },
  {
   "cell_type": "markdown",
   "id": "54e48749-1069-470c-a4e8-dff173ca1052",
   "metadata": {},
   "source": [
    "Create a Library Management System using Python. Below are the steps which you need to follow to create an end-to-end project for LMS. Here Librarian can add/modify/issue the books and can perform various other operation as listed in below steps. \n",
    "Use Python concepts only for creating this project.\n",
    "Steps:\n"
   ]
  },
  {
   "cell_type": "markdown",
   "id": "9e840bc5-d183-4317-a126-58d375e8da1e",
   "metadata": {},
   "source": [
    "Step 1: Basic Structure\n",
    "1.\tWrite a Python script that prints a welcome message for the Library Management System.\n",
    "2.\tDefine an initial list or dictionary to store books, with details like title, author, and availability.\n",
    "Example:\n",
    "library = {\n",
    "    \"Python Basics\": {\"author\": \"Test\", \"available\": True},\n",
    "    \"Data Science\": {\"author\": \"Test1\", \"available\": False}\n",
    "}\n",
    "3.\tWrite a function to display all the books with their details."
   ]
  },
  {
   "cell_type": "code",
   "execution_count": 41,
   "id": "b95d1996-8fea-4ab3-b08d-0bfad57a389c",
   "metadata": {},
   "outputs": [
    {
     "name": "stdout",
     "output_type": "stream",
     "text": [
      "Welcome to the Library Management System!\n",
      "\n",
      "Library Catalog:\n",
      "Title: Python Basics, Author: Alok, Status: Available\n",
      "Title: Data Science, Author: Adhiranshu, Status: Not Available\n"
     ]
    }
   ],
   "source": [
    "def display_books(library):\n",
    "  print(\"\\nLibrary Catalog:\")\n",
    "  if not library:\n",
    "    print(\"No books in the library.\")\n",
    "    return\n",
    "  for title, details in library.items():\n",
    "    availability = \"Available\" if details[\"available\"] else \"Not Available\"\n",
    "    print(f\"Title: {title}, Author: {details['author']}, Status: {availability}\")\n",
    "\n",
    "# Initial library catalog\n",
    "library = {\n",
    "    \"Python Basics\": {\"author\": \"Alok\", \"available\": True},\n",
    "    \"Data Science\": {\"author\": \"Adhiranshu\", \"available\": False}\n",
    "}\n",
    "\n",
    "print(\"Welcome to the Library Management System!\")\n",
    "\n",
    "display_books(library)"
   ]
  },
  {
   "cell_type": "code",
   "execution_count": 42,
   "id": "7b37e65f-ae93-4335-bfd0-9fc19df25d0e",
   "metadata": {},
   "outputs": [
    {
     "name": "stdin",
     "output_type": "stream",
     "text": [
      "Enter the title of the book:  Power BI\n",
      "Enter the author of the book:  Aryan\n"
     ]
    },
    {
     "name": "stdout",
     "output_type": "stream",
     "text": [
      "Book 'Power BI' by Aryan added successfully!\n",
      "\n",
      "Library Catalog:\n",
      "Title: Python Basics, Author: Alok, Status: Available\n",
      "Title: Data Science, Author: Adhiranshu, Status: Not Available\n",
      "Title: Power BI, Author: Aryan, Status: Available\n"
     ]
    }
   ],
   "source": [
    "def add_book(library):\n",
    "  title = input(\"Enter the title of the book: \")\n",
    "  author = input(\"Enter the author of the book: \")\n",
    "\n",
    "  if title in library:\n",
    "    print(\"Error: This book already exists in the library.\")\n",
    "  else:\n",
    "    library[title] = {\"author\": author, \"available\": True}\n",
    "    print(f\"Book '{title}' by {author} added successfully!\")\n",
    "\n",
    "# Call the function to add a book\n",
    "add_book(library)\n",
    "\n",
    "# Display the updated list of books\n",
    "display_books(library)"
   ]
  },
  {
   "cell_type": "code",
   "execution_count": null,
   "id": "3927af32-6946-4aeb-817f-20b687fc3673",
   "metadata": {},
   "outputs": [],
   "source": [
    "Step 3: Issuing Books\n",
    "5.\tCreate a function to issue a book. The function should:\n",
    "o\tCheck if the book exists and is available.\n",
    "o\tMark it as unavailable if issued and record the name of the person issuing it.\n",
    "6.\tModify the display function to show the current status of the book (Available or Issued)."
   ]
  },
  {
   "cell_type": "code",
   "execution_count": 43,
   "id": "080b977c-60e3-4dd0-b4fd-70c93b2c4d87",
   "metadata": {},
   "outputs": [
    {
     "name": "stdin",
     "output_type": "stream",
     "text": [
      "Enter the title of the book to issue:  Power BI\n",
      "Enter your name:  Aryan\n"
     ]
    },
    {
     "name": "stdout",
     "output_type": "stream",
     "text": [
      "Book 'Power BI' issued to Aryan successfully!\n",
      "\n",
      "Library Catalog:\n",
      "Title: Python Basics, Author: Alok, Status: Available\n",
      "Title: Data Science, Author: Adhiranshu, Status: Not Available\n",
      "Title: Power BI, Author: Aryan, Status: Not Available, Issued to: Aryan\n"
     ]
    }
   ],
   "source": [
    "def issue_book(library):\n",
    "  title = input(\"Enter the title of the book to issue: \")\n",
    "  if title in library:\n",
    "    if library[title][\"available\"]:\n",
    "      user_name = input(\"Enter your name: \")\n",
    "      library[title][\"available\"] = False\n",
    "      library[title][\"issued_to\"] = user_name  # Record the person issuing the book\n",
    "      print(f\"Book '{title}' issued to {user_name} successfully!\")\n",
    "    else:\n",
    "      print(f\"Book '{title}' is currently not available.\")\n",
    "  else:\n",
    "    print(f\"Book '{title}' not found in the library.\")\n",
    "\n",
    "\n",
    "def display_books(library):\n",
    "    print(\"\\nLibrary Catalog:\")\n",
    "    if not library:\n",
    "        print(\"No books in the library.\")\n",
    "        return\n",
    "    for title, details in library.items():\n",
    "        availability = \"Available\" if details[\"available\"] else \"Not Available\"\n",
    "        if \"issued_to\" in details and not details[\"available\"]:\n",
    "            print(f\"Title: {title}, Author: {details['author']}, Status: {availability}, Issued to: {details['issued_to']}\")\n",
    "        else:\n",
    "            print(f\"Title: {title}, Author: {details['author']}, Status: {availability}\")\n",
    "\n",
    "issue_book(library)\n",
    "display_books(library)"
   ]
  },
  {
   "cell_type": "code",
   "execution_count": 46,
   "id": "2b1ac18d-037b-45f5-ad48-ae7309fdfdf1",
   "metadata": {},
   "outputs": [
    {
     "name": "stdin",
     "output_type": "stream",
     "text": [
      "Enter the title of the book to return:  Power BI\n"
     ]
    },
    {
     "name": "stdout",
     "output_type": "stream",
     "text": [
      "Book 'Power BI' returned successfully by Aryan!\n",
      "\n",
      "Library Catalog:\n",
      "Title: Python Basics, Author: Alok, Status: Available\n",
      "Title: Data Science, Author: Adhiranshu, Status: Not Available\n",
      "Title: Power BI, Author: Aryan, Status: Available\n"
     ]
    }
   ],
   "source": [
    "def return_book(library):\n",
    "    title = input(\"Enter the title of the book to return: \")\n",
    "    if title in library:\n",
    "        if not library[title][\"available\"]:\n",
    "            library[title][\"available\"] = True\n",
    "            issued_to = library[title].pop(\"issued_to\", None)  # Remove the issuer's name\n",
    "            print(f\"Book '{title}' returned successfully by {issued_to}!\")\n",
    "        else:\n",
    "            print(f\"Book '{title}' was not issued.\")\n",
    "    else:\n",
    "        print(f\"Book '{title}' not found in the library.\")\n",
    "\n",
    "return_book(library)\n",
    "display_books(library)"
   ]
  },
  {
   "cell_type": "code",
   "execution_count": 65,
   "id": "09d66de1-6822-497a-817f-88055d74cbb2",
   "metadata": {},
   "outputs": [
    {
     "name": "stdin",
     "output_type": "stream",
     "text": [
      "Enter username:  admin\n",
      "Enter password:  admin123\n"
     ]
    },
    {
     "name": "stdout",
     "output_type": "stream",
     "text": [
      "Login successful!\n",
      "\n",
      "Library Catalog:\n",
      "Title: Python Basics, Author: Alok, Status: Available\n",
      "Title: Data Science, Author: Adhiranshu, Status: Not Available\n",
      "Title: Power BI, Author: Aryan, Status: Available\n"
     ]
    }
   ],
   "source": [
    "credentials = {\"admin\": \"admin123\", \"librarian\": \"lib123\"}\n",
    "# Function to issue a book\n",
    "def login():\n",
    "  attempts = 0\n",
    "  while attempts < 3:\n",
    "    username = input(\"Enter username: \")\n",
    "    password = input(\"Enter password: \")\n",
    "    if username in credentials and credentials[username] == password:\n",
    "      print(\"Login successful!\")\n",
    "      return True\n",
    "    else:\n",
    "      attempts += 1\n",
    "      print(f\"Invalid credentials. {3 - attempts} attempts remaining.\")\n",
    "  print(\"Too many incorrect login attempts. Exiting.\")\n",
    "  return False\n",
    "if login():\n",
    "     display_books(library)"
   ]
  },
  {
   "cell_type": "code",
   "execution_count": 66,
   "id": "ed56c087-72bc-4db5-9040-49b5a31c4e5e",
   "metadata": {},
   "outputs": [
    {
     "name": "stdout",
     "output_type": "stream",
     "text": [
      "\n",
      "Issued Books:\n",
      "No books are currently issued.\n"
     ]
    }
   ],
   "source": [
    "def view_issued_books(library):\n",
    "    print(\"\\nIssued Books:\")\n",
    "    issued_books_found = False\n",
    "    for title, details in library.items():\n",
    "        if \"issued_to\" in details and not details[\"available\"]:\n",
    "            print(f\"Title: {title}, Issued to: {details['issued_to']}\")\n",
    "            issued_books_found = True\n",
    "    if not issued_books_found:\n",
    "        print(\"No books are currently issued.\")\n",
    "\n",
    "# Example usage (assuming 'library' is your library dictionary):\n",
    "view_issued_books(library)"
   ]
  },
  {
   "cell_type": "code",
   "execution_count": null,
   "id": "8052ccf2-3775-4290-9136-03906f70f0ab",
   "metadata": {},
   "outputs": [
    {
     "name": "stdin",
     "output_type": "stream",
     "text": [
      "Enter username:  admin\n",
      "Enter password:  admin123\n"
     ]
    },
    {
     "name": "stdout",
     "output_type": "stream",
     "text": [
      "Login successful!\n",
      "\n",
      "Main Menu:\n",
      "1. View Books\n",
      "2. Add a Book\n",
      "3. Issue a Book\n",
      "4. Return a Book\n",
      "5. View Issued Books\n",
      "6. Exit\n"
     ]
    },
    {
     "name": "stdin",
     "output_type": "stream",
     "text": [
      "Enter your choice:  1\n"
     ]
    },
    {
     "name": "stdout",
     "output_type": "stream",
     "text": [
      "\n",
      "Library Catalog:\n",
      "Title: Python Basics, Author: Alok, Status: Available\n",
      "Title: Data Science, Author: Adhiranshu, Status: Not Available\n",
      "\n",
      "Main Menu:\n",
      "1. View Books\n",
      "2. Add a Book\n",
      "3. Issue a Book\n",
      "4. Return a Book\n",
      "5. View Issued Books\n",
      "6. Exit\n"
     ]
    },
    {
     "name": "stdin",
     "output_type": "stream",
     "text": [
      "Enter your choice:  2\n",
      "Enter the title of the book:  Machine Learning\n",
      "Enter the author of the book:  Aryan\n"
     ]
    },
    {
     "name": "stdout",
     "output_type": "stream",
     "text": [
      "Book 'Machine Learning' by Aryan added successfully!\n",
      "\n",
      "Main Menu:\n",
      "1. View Books\n",
      "2. Add a Book\n",
      "3. Issue a Book\n",
      "4. Return a Book\n",
      "5. View Issued Books\n",
      "6. Exit\n"
     ]
    },
    {
     "name": "stdin",
     "output_type": "stream",
     "text": [
      "Enter your choice:  3\n",
      "Enter the title of the book to issue:  Python Basics\n",
      "Enter your name:  Alok\n"
     ]
    },
    {
     "name": "stdout",
     "output_type": "stream",
     "text": [
      "Book 'Python Basics' issued to Alok successfully!\n",
      "\n",
      "Main Menu:\n",
      "1. View Books\n",
      "2. Add a Book\n",
      "3. Issue a Book\n",
      "4. Return a Book\n",
      "5. View Issued Books\n",
      "6. Exit\n"
     ]
    },
    {
     "name": "stdin",
     "output_type": "stream",
     "text": [
      "Enter your choice:  5\n"
     ]
    },
    {
     "name": "stdout",
     "output_type": "stream",
     "text": [
      "\n",
      "Issued Books:\n",
      "Title: Python Basics, Issued to: Alok\n",
      "\n",
      "Main Menu:\n",
      "1. View Books\n",
      "2. Add a Book\n",
      "3. Issue a Book\n",
      "4. Return a Book\n",
      "5. View Issued Books\n",
      "6. Exit\n"
     ]
    },
    {
     "name": "stdin",
     "output_type": "stream",
     "text": [
      "Enter your choice:  1\n"
     ]
    },
    {
     "name": "stdout",
     "output_type": "stream",
     "text": [
      "\n",
      "Library Catalog:\n",
      "Title: Python Basics, Author: Alok, Status: Not Available, Issued to: Alok\n",
      "Title: Data Science, Author: Adhiranshu, Status: Not Available\n",
      "Title: Machine Learning, Author: Aryan, Status: Available\n",
      "\n",
      "Main Menu:\n",
      "1. View Books\n",
      "2. Add a Book\n",
      "3. Issue a Book\n",
      "4. Return a Book\n",
      "5. View Issued Books\n",
      "6. Exit\n"
     ]
    },
    {
     "name": "stdin",
     "output_type": "stream",
     "text": [
      "Enter your choice:  2\n",
      "Enter the title of the book:  Emotional Manipulation\n",
      "Enter the author of the book:  Alok Miglani\n"
     ]
    },
    {
     "name": "stdout",
     "output_type": "stream",
     "text": [
      "Book 'Emotional Manipulation' by Alok Miglani added successfully!\n",
      "\n",
      "Main Menu:\n",
      "1. View Books\n",
      "2. Add a Book\n",
      "3. Issue a Book\n",
      "4. Return a Book\n",
      "5. View Issued Books\n",
      "6. Exit\n"
     ]
    },
    {
     "name": "stdin",
     "output_type": "stream",
     "text": [
      "Enter your choice:  1\n"
     ]
    },
    {
     "name": "stdout",
     "output_type": "stream",
     "text": [
      "\n",
      "Library Catalog:\n",
      "Title: Python Basics, Author: Alok, Status: Not Available, Issued to: Alok\n",
      "Title: Data Science, Author: Adhiranshu, Status: Not Available\n",
      "Title: Machine Learning, Author: Aryan, Status: Available\n",
      "Title: Emotional Manipulation, Author: Alok Miglani, Status: Available\n",
      "\n",
      "Main Menu:\n",
      "1. View Books\n",
      "2. Add a Book\n",
      "3. Issue a Book\n",
      "4. Return a Book\n",
      "5. View Issued Books\n",
      "6. Exit\n"
     ]
    },
    {
     "name": "stdin",
     "output_type": "stream",
     "text": [
      "Enter your choice:  1\n"
     ]
    },
    {
     "name": "stdout",
     "output_type": "stream",
     "text": [
      "\n",
      "Library Catalog:\n",
      "Title: Python Basics, Author: Alok, Status: Not Available, Issued to: Alok\n",
      "Title: Data Science, Author: Adhiranshu, Status: Not Available\n",
      "Title: Machine Learning, Author: Aryan, Status: Available\n",
      "Title: Emotional Manipulation, Author: Alok Miglani, Status: Available\n",
      "\n",
      "Main Menu:\n",
      "1. View Books\n",
      "2. Add a Book\n",
      "3. Issue a Book\n",
      "4. Return a Book\n",
      "5. View Issued Books\n",
      "6. Exit\n"
     ]
    }
   ],
   "source": [
    "# prompt: 10.\tCombine all the functions into a menu-driven program:\n",
    "# o\tUse a while loop to display options like:\n",
    "# \tView Books\n",
    "# \tAdd a Book\n",
    "# \tIssue a Book\n",
    "# \tReturn a Book\n",
    "# \tView Issued Books\n",
    "# \tExit\n",
    "\n",
    "def display_books(library):\n",
    "    print(\"\\nLibrary Catalog:\")\n",
    "    if not library:\n",
    "        print(\"No books in the library.\")\n",
    "        return\n",
    "    for title, details in library.items():\n",
    "        availability = \"Available\" if details[\"available\"] else \"Not Available\"\n",
    "        if \"issued_to\" in details and not details[\"available\"]:\n",
    "            print(f\"Title: {title}, Author: {details['author']}, Status: {availability}, Issued to: {details['issued_to']}\")\n",
    "        else:\n",
    "            print(f\"Title: {title}, Author: {details['author']}, Status: {availability}\")\n",
    "\n",
    "def add_book(library):\n",
    "    title = input(\"Enter the title of the book: \")\n",
    "    author = input(\"Enter the author of the book: \")\n",
    "\n",
    "    if title in library:\n",
    "        print(\"Error: This book already exists in the library.\")\n",
    "    else:\n",
    "        library[title] = {\"author\": author, \"available\": True}\n",
    "        print(f\"Book '{title}' by {author} added successfully!\")\n",
    "\n",
    "def issue_book(library):\n",
    "    title = input(\"Enter the title of the book to issue: \")\n",
    "    if title in library:\n",
    "        if library[title][\"available\"]:\n",
    "            user_name = input(\"Enter your name: \")\n",
    "            library[title][\"available\"] = False\n",
    "            library[title][\"issued_to\"] = user_name\n",
    "            print(f\"Book '{title}' issued to {user_name} successfully!\")\n",
    "        else:\n",
    "            print(f\"Book '{title}' is currently not available.\")\n",
    "    else:\n",
    "        print(f\"Book '{title}' not found in the library.\")\n",
    "\n",
    "def return_book(library):\n",
    "    title = input(\"Enter the title of the book to return: \")\n",
    "    if title in library:\n",
    "        if not library[title][\"available\"]:\n",
    "            library[title][\"available\"] = True\n",
    "            issued_to = library[title].pop(\"issued_to\", None)\n",
    "            print(f\"Book '{title}' returned successfully by {issued_to}!\")\n",
    "        else:\n",
    "            print(f\"Book '{title}' was not issued.\")\n",
    "    else:\n",
    "        print(f\"Book '{title}' not found in the library.\")\n",
    "\n",
    "def view_issued_books(library):\n",
    "    print(\"\\nIssued Books:\")\n",
    "    issued_books_found = False\n",
    "    for title, details in library.items():\n",
    "        if \"issued_to\" in details and not details[\"available\"]:\n",
    "            print(f\"Title: {title}, Issued to: {details['issued_to']}\")\n",
    "            issued_books_found = True\n",
    "    if not issued_books_found:\n",
    "        print(\"No books are currently issued.\")\n",
    "\n",
    "# Initial library catalog\n",
    "library = {\n",
    "    \"Python Basics\": {\"author\": \"Alok\", \"available\": True},\n",
    "    \"Data Science\": {\"author\": \"Adhiranshu\", \"available\": False}\n",
    "}\n",
    "\n",
    "credentials = {\"admin\": \"admin123\", \"librarian\": \"lib123\"}\n",
    "\n",
    "def login():\n",
    "    attempts = 0\n",
    "    while attempts < 3:\n",
    "        username = input(\"Enter username: \")\n",
    "        password = input(\"Enter password: \")\n",
    "        if username in credentials and credentials[username] == password:\n",
    "            print(\"Login successful!\")\n",
    "            return True\n",
    "        else:\n",
    "            attempts += 1\n",
    "            print(f\"Invalid credentials. {3 - attempts} attempts remaining.\")\n",
    "    print(\"Too many incorrect login attempts. Exiting.\")\n",
    "    return False\n",
    "\n",
    "if login():\n",
    "    while True:\n",
    "        print(\"\\nMain Menu:\")\n",
    "        print(\"1. View Books\")\n",
    "        print(\"2. Add a Book\")\n",
    "        print(\"3. Issue a Book\")\n",
    "        print(\"4. Return a Book\")\n",
    "        print(\"5. View Issued Books\")\n",
    "        print(\"6. Exit\")\n",
    "\n",
    "        choice = input(\"Enter your choice: \")\n",
    "\n",
    "        if choice == '1':\n",
    "            display_books(library)\n",
    "        elif choice == '2':\n",
    "            add_book(library)\n",
    "        elif choice == '3':\n",
    "            issue_book(library)\n",
    "        elif choice == '4':\n",
    "            return_book(library)\n",
    "        elif choice == '5':\n",
    "            view_issued_books(library)\n",
    "        elif choice == '6':\n",
    "            print(\"Exiting the Library Management System.\")\n",
    "            break\n",
    "        else:\n",
    "            print(\"Invalid choice. Please try again.\")\n"
   ]
  },
  {
   "cell_type": "code",
   "execution_count": null,
   "id": "2e3ff558-0d74-4453-8e02-0d4d760dbf81",
   "metadata": {},
   "outputs": [],
   "source": []
  }
 ],
 "metadata": {
  "kernelspec": {
   "display_name": "Python 3 (ipykernel)",
   "language": "python",
   "name": "python3"
  },
  "language_info": {
   "codemirror_mode": {
    "name": "ipython",
    "version": 3
   },
   "file_extension": ".py",
   "mimetype": "text/x-python",
   "name": "python",
   "nbconvert_exporter": "python",
   "pygments_lexer": "ipython3",
   "version": "3.12.7"
  }
 },
 "nbformat": 4,
 "nbformat_minor": 5
}
